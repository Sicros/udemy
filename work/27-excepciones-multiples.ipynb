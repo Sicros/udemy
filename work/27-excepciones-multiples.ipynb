{
 "cells": [
  {
   "cell_type": "code",
   "execution_count": 6,
   "metadata": {},
   "outputs": [
    {
     "name": "stdin",
     "output_type": "stream",
     "text": [
      "Introduce algo:  \n"
     ]
    },
    {
     "ename": "ValueError",
     "evalue": "could not convert string to float: ''",
     "output_type": "error",
     "traceback": [
      "\u001b[1;31m---------------------------------------------------------------------------\u001b[0m",
      "\u001b[1;31mValueError\u001b[0m                                Traceback (most recent call last)",
      "\u001b[1;32m<ipython-input-6-eebdbc6e5fa6>\u001b[0m in \u001b[0;36m<module>\u001b[1;34m\u001b[0m\n\u001b[1;32m----> 1\u001b[1;33m \u001b[0mvariable\u001b[0m \u001b[1;33m=\u001b[0m \u001b[0mfloat\u001b[0m\u001b[1;33m(\u001b[0m\u001b[0minput\u001b[0m\u001b[1;33m(\u001b[0m\u001b[1;34m\"Introduce algo: \"\u001b[0m\u001b[1;33m)\u001b[0m\u001b[1;33m)\u001b[0m\u001b[1;33m\u001b[0m\u001b[1;33m\u001b[0m\u001b[0m\n\u001b[0m\u001b[0;32m      2\u001b[0m \u001b[0ma\u001b[0m \u001b[1;33m=\u001b[0m \u001b[1;36m2\u001b[0m\u001b[1;33m\u001b[0m\u001b[1;33m\u001b[0m\u001b[0m\n\u001b[0;32m      3\u001b[0m \u001b[0mprint\u001b[0m\u001b[1;33m(\u001b[0m\u001b[1;34m\"resultado: \"\u001b[0m\u001b[1;33m,\u001b[0m\u001b[0ma\u001b[0m\u001b[1;33m*\u001b[0m\u001b[0mvariable\u001b[0m\u001b[1;33m)\u001b[0m\u001b[1;33m\u001b[0m\u001b[1;33m\u001b[0m\u001b[0m\n",
      "\u001b[1;31mValueError\u001b[0m: could not convert string to float: ''"
     ]
    }
   ],
   "source": [
    "variable = float(input(\"Introduce algo: \"))\n",
    "a = 2\n",
    "print(\"resultado: \",a*variable)"
   ]
  },
  {
   "cell_type": "code",
   "execution_count": 7,
   "metadata": {},
   "outputs": [
    {
     "name": "stdin",
     "output_type": "stream",
     "text": [
      "Introduce algo:  Pancho\n"
     ]
    },
    {
     "name": "stdout",
     "output_type": "stream",
     "text": [
      "Ingresaste cualquier otra cosa menos la que se te pidió\n"
     ]
    }
   ],
   "source": [
    "try:\n",
    "    variable = float(input(\"Introduce algo: \"))\n",
    "    a = 2\n",
    "    print(\"resultado: \",a*variable)\n",
    "except:\n",
    "    print(\"Ingresaste cualquier otra cosa menos la que se te pidió\")"
   ]
  },
  {
   "cell_type": "code",
   "execution_count": 1,
   "metadata": {},
   "outputs": [
    {
     "name": "stdin",
     "output_type": "stream",
     "text": [
      "Introduce algo:  hola\n"
     ]
    },
    {
     "name": "stdout",
     "output_type": "stream",
     "text": [
      "Ingresaste cualquier otra cosa menos la que se te pidió, te voy a dar otra oportunidad\n"
     ]
    },
    {
     "name": "stdin",
     "output_type": "stream",
     "text": [
      "Introduce algo:  ah\n"
     ]
    },
    {
     "name": "stdout",
     "output_type": "stream",
     "text": [
      "Ingresaste cualquier otra cosa menos la que se te pidió, te voy a dar otra oportunidad\n"
     ]
    },
    {
     "name": "stdin",
     "output_type": "stream",
     "text": [
      "Introduce algo:  4\n"
     ]
    },
    {
     "name": "stdout",
     "output_type": "stream",
     "text": [
      "resultado:  8.0\n"
     ]
    }
   ],
   "source": [
    "while(True):\n",
    "    try:\n",
    "        variable = float(input(\"Introduce algo: \"))\n",
    "        a = 2\n",
    "        print(\"resultado: \",a*variable)\n",
    "        break\n",
    "    except:\n",
    "        print(\"Ingresaste cualquier otra cosa menos la que se te pidió, te voy a dar otra oportunidad\")"
   ]
  },
  {
   "cell_type": "code",
   "execution_count": 4,
   "metadata": {},
   "outputs": [
    {
     "name": "stdin",
     "output_type": "stream",
     "text": [
      "Introduce algo:  a\n"
     ]
    },
    {
     "name": "stdout",
     "output_type": "stream",
     "text": [
      "Ingresaste cualquier otra cosa menos la que se te pidió, te voy a dar otra oportunidad\n",
      "Perfecto amigo!\n"
     ]
    },
    {
     "name": "stdin",
     "output_type": "stream",
     "text": [
      "Introduce algo:  3\n"
     ]
    },
    {
     "name": "stdout",
     "output_type": "stream",
     "text": [
      "resultado:  6.0\n",
      "iniciaste sesión perfectamente amigo\n",
      "Perfecto amigo!\n"
     ]
    }
   ],
   "source": [
    "while(True):\n",
    "    try:\n",
    "        variable = float(input(\"Introduce algo: \"))\n",
    "        a = 2\n",
    "        print(\"resultado: \",a*variable)\n",
    "    except:\n",
    "        print(\"Ingresaste cualquier otra cosa menos la que se te pidió, te voy a dar otra oportunidad\")\n",
    "    else:\n",
    "        print(\"iniciaste sesión perfectamente amigo\")\n",
    "        break\n",
    "    finally:\n",
    "        print(\"Perfecto amigo!\")"
   ]
  }
 ],
 "metadata": {
  "kernelspec": {
   "display_name": "Python 3",
   "language": "python",
   "name": "python3"
  },
  "language_info": {
   "codemirror_mode": {
    "name": "ipython",
    "version": 3
   },
   "file_extension": ".py",
   "mimetype": "text/x-python",
   "name": "python",
   "nbconvert_exporter": "python",
   "pygments_lexer": "ipython3",
   "version": "3.8.3"
  }
 },
 "nbformat": 4,
 "nbformat_minor": 4
}
