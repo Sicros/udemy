{
 "cells": [
  {
   "cell_type": "code",
   "execution_count": 4,
   "metadata": {},
   "outputs": [
    {
     "name": "stdout",
     "output_type": "stream",
     "text": [
      "El resto no es 0.\n"
     ]
    }
   ],
   "source": [
    "alvaro = 13\n",
    "if alvaro % 2 == 0:\n",
    "    print(\"El resto es 0.\")\n",
    "else:\n",
    "    print(\"El resto no es 0.\")"
   ]
  },
  {
   "cell_type": "code",
   "execution_count": 13,
   "metadata": {},
   "outputs": [
    {
     "name": "stdout",
     "output_type": "stream",
     "text": [
      "Esto es algo cuando no hay resultado\n"
     ]
    }
   ],
   "source": [
    "frase = \"Alvaro\"\n",
    "if frase == \"Entrar\":\n",
    "    print(\"Bienvenid@s\")\n",
    "elif frase == \"Hola\":\n",
    "    print(\"Nos están saludando\")\n",
    "else:\n",
    "    print(\"Esto es algo cuando no hay resultado\")"
   ]
  },
  {
   "cell_type": "code",
   "execution_count": 16,
   "metadata": {},
   "outputs": [
    {
     "name": "stdin",
     "output_type": "stream",
     "text": [
      "Coloca la nota:  20\n"
     ]
    },
    {
     "name": "stdout",
     "output_type": "stream",
     "text": [
      "Eres un genio\n"
     ]
    }
   ],
   "source": [
    "final = float(input(\"Coloca la nota: \"))\n",
    "if final >= 9:\n",
    "    print(\"Eres un genio\")\n",
    "elif final >= 7:\n",
    "    print(\"Aprobado\")\n",
    "elif final == 6:\n",
    "    print(\"Te faltó poco\")\n",
    "elif final <=5:\n",
    "    print(\"Tuviste que haber estudiado en el curso de Python\")\n",
    "else:\n",
    "    print(\"No se donde estudias porque la nota que colocaste no se puede evaluar\")"
   ]
  }
 ],
 "metadata": {
  "kernelspec": {
   "display_name": "Python 3",
   "language": "python",
   "name": "python3"
  },
  "language_info": {
   "codemirror_mode": {
    "name": "ipython",
    "version": 3
   },
   "file_extension": ".py",
   "mimetype": "text/x-python",
   "name": "python",
   "nbconvert_exporter": "python",
   "pygments_lexer": "ipython3",
   "version": "3.8.3"
  }
 },
 "nbformat": 4,
 "nbformat_minor": 4
}
