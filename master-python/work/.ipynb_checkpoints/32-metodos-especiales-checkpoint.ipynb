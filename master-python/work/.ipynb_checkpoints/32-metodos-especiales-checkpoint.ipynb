{
 "cells": [
  {
   "cell_type": "code",
   "execution_count": 1,
   "metadata": {},
   "outputs": [],
   "source": [
    "class Fabrica:\n",
    "    def __init__(self, tiempo, nombre, ruedas):\n",
    "        self.tiempo = tiempo\n",
    "        self.nombre = nombre\n",
    "        self.ruedas = ruedas\n",
    "        print(\"Se creó el auto\", self.nombre)\n",
    "    \n",
    "    def __del__(self):\n",
    "        print(\"Se eliminó el auto\", self.nombre)"
   ]
  },
  {
   "cell_type": "code",
   "execution_count": 5,
   "metadata": {},
   "outputs": [
    {
     "name": "stdout",
     "output_type": "stream",
     "text": [
      "Se creó el auto Alvaro\n",
      "Se eliminó el auto edro\n"
     ]
    }
   ],
   "source": [
    "a = Fabrica(10, \"Alvaro\", 4)"
   ]
  },
  {
   "cell_type": "code",
   "execution_count": 10,
   "metadata": {},
   "outputs": [],
   "source": [
    "class Fabrica:\n",
    "    def __init__(self, tiempo, nombre, ruedas):\n",
    "        self.tiempo = tiempo\n",
    "        self.nombre = nombre\n",
    "        self.ruedas = ruedas\n",
    "        print(\"Se creó el auto\", self.nombre)\n",
    "    \n",
    "    def __del__(self):\n",
    "        print(\"Se eliminó el auto\", self.nombre)\n",
    "    \n",
    "    def __str__(self):\n",
    "        return \"{} se fabricó con éxito en el tiempo {} y tiene esta cantidad de ruedas {}\".format(self.nombre, self.tiempo, self.ruedas)\n",
    "\n",
    "    def __len__(self):\n",
    "        return self.tiempo"
   ]
  },
  {
   "cell_type": "code",
   "execution_count": 11,
   "metadata": {},
   "outputs": [
    {
     "name": "stdout",
     "output_type": "stream",
     "text": [
      "Se creó el auto Alvaro\n"
     ]
    }
   ],
   "source": [
    "a = Fabrica(10, \"Alvaro\", 4)"
   ]
  },
  {
   "cell_type": "code",
   "execution_count": 12,
   "metadata": {},
   "outputs": [
    {
     "data": {
      "text/plain": [
       "10"
      ]
     },
     "execution_count": 12,
     "metadata": {},
     "output_type": "execute_result"
    }
   ],
   "source": [
    "len(a)"
   ]
  },
  {
   "cell_type": "code",
   "execution_count": 13,
   "metadata": {},
   "outputs": [
    {
     "data": {
      "text/plain": [
       "'Alvaro se fabricó con éxito en el tiempo 10 y tiene esta cantidad de ruedas 4'"
      ]
     },
     "execution_count": 13,
     "metadata": {},
     "output_type": "execute_result"
    }
   ],
   "source": [
    "str(a)"
   ]
  }
 ],
 "metadata": {
  "kernelspec": {
   "display_name": "Python 3",
   "language": "python",
   "name": "python3"
  },
  "language_info": {
   "codemirror_mode": {
    "name": "ipython",
    "version": 3
   },
   "file_extension": ".py",
   "mimetype": "text/x-python",
   "name": "python",
   "nbconvert_exporter": "python",
   "pygments_lexer": "ipython3",
   "version": "3.8.5"
  }
 },
 "nbformat": 4,
 "nbformat_minor": 4
}
