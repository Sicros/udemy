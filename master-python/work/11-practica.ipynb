{
 "cells": [
  {
   "cell_type": "code",
   "execution_count": 3,
   "metadata": {},
   "outputs": [
    {
     "name": "stdout",
     "output_type": "stream",
     "text": [
      "Elige tu propio camino\n"
     ]
    },
    {
     "name": "stdin",
     "output_type": "stream",
     "text": [
      "Escribe empezar para iniciar el programa:  Empezar\n"
     ]
    },
    {
     "name": "stdout",
     "output_type": "stream",
     "text": [
      " ¿Qué camino quieres elegir? \n",
      "    Escribe la opción con número.\n",
      "    1 - Quiero que me saludes.\n",
      "    2 - Deseo multiplicar ya que no se como hacerlo.\n",
      "    3 - Quiero salir de este programa, ya que aprendí a multiplicar con el curso de Alvaro.\n"
     ]
    },
    {
     "name": "stdin",
     "output_type": "stream",
     "text": [
      " 3\n"
     ]
    },
    {
     "name": "stdout",
     "output_type": "stream",
     "text": [
      "Excelente decisión que hayas tomado el curso de Alvaro.\n"
     ]
    }
   ],
   "source": [
    "print(\"Elige tu propio camino\")\n",
    "inicio = input(\"Escribe empezar para iniciar el programa: \")\n",
    "while(inicio == \"Empezar\"):\n",
    "    print(\"\"\" ¿Qué camino quieres elegir? \n",
    "    Escribe la opción con número.\n",
    "    1 - Quiero que me saludes.\n",
    "    2 - Deseo multiplicar ya que no se como hacerlo.\n",
    "    3 - Quiero salir de este programa, ya que aprendí a multiplicar con el curso de Alvaro.\"\"\")\n",
    "    opcion = input()\n",
    "    if opcion == '1':\n",
    "        print(\"Te saludo.\")\n",
    "    elif opcion == '2':\n",
    "        numero1 = float(input(\"Introduce el valor a multiplicar primero.\"))\n",
    "        numero2 = float(input(\"Introduce el valor a multiplicar segundo.\"))\n",
    "        print(\"El resultado es: \", numero1*numero2)\n",
    "    elif opcion == '3':\n",
    "        print(\"Excelente decisión que hayas tomado el curso de Alvaro.\")\n",
    "        break\n",
    "    else:\n",
    "        print(\"No sé que elegiste, ya que tuviste que haber puesto alguna de las opciones.\")"
   ]
  },
  {
   "cell_type": "code",
   "execution_count": null,
   "metadata": {},
   "outputs": [],
   "source": []
  }
 ],
 "metadata": {
  "kernelspec": {
   "display_name": "Python 3",
   "language": "python",
   "name": "python3"
  },
  "language_info": {
   "codemirror_mode": {
    "name": "ipython",
    "version": 3
   },
   "file_extension": ".py",
   "mimetype": "text/x-python",
   "name": "python",
   "nbconvert_exporter": "python",
   "pygments_lexer": "ipython3",
   "version": "3.8.3"
  }
 },
 "nbformat": 4,
 "nbformat_minor": 4
}
